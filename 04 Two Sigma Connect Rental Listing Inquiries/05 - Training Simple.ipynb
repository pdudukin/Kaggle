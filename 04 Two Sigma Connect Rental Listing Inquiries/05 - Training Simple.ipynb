{
 "cells": [
  {
   "cell_type": "code",
   "execution_count": 1,
   "metadata": {
    "collapsed": false,
    "deletable": true,
    "editable": true
   },
   "outputs": [
    {
     "name": "stderr",
     "output_type": "stream",
     "text": [
      "/Users/sermolov/anaconda/lib/python3.6/site-packages/sklearn/cross_validation.py:44: DeprecationWarning: This module was deprecated in version 0.18 in favor of the model_selection module into which all the refactored classes and functions are moved. Also note that the interface of the new CV iterators are different from that of this module. This module will be removed in 0.20.\n",
      "  \"This module will be removed in 0.20.\", DeprecationWarning)\n"
     ]
    }
   ],
   "source": [
    "import numpy as np\n",
    "import pandas as pd\n",
    "from sklearn.model_selection import RandomizedSearchCV\n",
    "from sklearn.ensemble import RandomForestClassifier\n",
    "from sklearn.metrics import log_loss\n",
    "import functools as ft\n",
    "import xgboost"
   ]
  },
  {
   "cell_type": "code",
   "execution_count": 2,
   "metadata": {
    "collapsed": false,
    "deletable": true,
    "editable": true
   },
   "outputs": [
    {
     "name": "stdout",
     "output_type": "stream",
     "text": [
      "Train: (49352, 12)\n",
      "Test: (74659, 12)\n"
     ]
    },
    {
     "data": {
      "text/html": [
       "<div>\n",
       "<table border=\"1\" class=\"dataframe\">\n",
       "  <thead>\n",
       "    <tr style=\"text-align: right;\">\n",
       "      <th></th>\n",
       "      <th>bathrooms</th>\n",
       "      <th>bedrooms</th>\n",
       "      <th>description_len</th>\n",
       "      <th>features_cnt</th>\n",
       "      <th>hour</th>\n",
       "      <th>interest_level</th>\n",
       "      <th>latitude</th>\n",
       "      <th>listing_id</th>\n",
       "      <th>longitude</th>\n",
       "      <th>photos_cnt</th>\n",
       "      <th>price</th>\n",
       "      <th>weekday</th>\n",
       "    </tr>\n",
       "  </thead>\n",
       "  <tbody>\n",
       "    <tr>\n",
       "      <th>0</th>\n",
       "      <td>1.5</td>\n",
       "      <td>3</td>\n",
       "      <td>588</td>\n",
       "      <td>0</td>\n",
       "      <td>7</td>\n",
       "      <td>medium</td>\n",
       "      <td>40.7145</td>\n",
       "      <td>7211212</td>\n",
       "      <td>-73.9425</td>\n",
       "      <td>5</td>\n",
       "      <td>3000</td>\n",
       "      <td>4</td>\n",
       "    </tr>\n",
       "    <tr>\n",
       "      <th>1</th>\n",
       "      <td>1.0</td>\n",
       "      <td>2</td>\n",
       "      <td>8</td>\n",
       "      <td>5</td>\n",
       "      <td>12</td>\n",
       "      <td>low</td>\n",
       "      <td>40.7947</td>\n",
       "      <td>7150865</td>\n",
       "      <td>-73.9667</td>\n",
       "      <td>11</td>\n",
       "      <td>5465</td>\n",
       "      <td>6</td>\n",
       "    </tr>\n",
       "    <tr>\n",
       "      <th>2</th>\n",
       "      <td>1.0</td>\n",
       "      <td>1</td>\n",
       "      <td>691</td>\n",
       "      <td>4</td>\n",
       "      <td>3</td>\n",
       "      <td>high</td>\n",
       "      <td>40.7388</td>\n",
       "      <td>6887163</td>\n",
       "      <td>-74.0018</td>\n",
       "      <td>8</td>\n",
       "      <td>2850</td>\n",
       "      <td>6</td>\n",
       "    </tr>\n",
       "  </tbody>\n",
       "</table>\n",
       "</div>"
      ],
      "text/plain": [
       "   bathrooms  bedrooms  description_len  features_cnt  hour interest_level  \\\n",
       "0        1.5         3              588             0     7         medium   \n",
       "1        1.0         2                8             5    12            low   \n",
       "2        1.0         1              691             4     3           high   \n",
       "\n",
       "   latitude  listing_id  longitude  photos_cnt  price  weekday  \n",
       "0   40.7145     7211212   -73.9425           5   3000        4  \n",
       "1   40.7947     7150865   -73.9667          11   5465        6  \n",
       "2   40.7388     6887163   -74.0018           8   2850        6  "
      ]
     },
     "execution_count": 2,
     "metadata": {},
     "output_type": "execute_result"
    }
   ],
   "source": [
    "train = pd.read_csv('./prepared/basic_train.csv')\n",
    "print(\"Train:\",train.shape)\n",
    "test = pd.read_csv('./prepared/basic_test.csv')\n",
    "print(\"Test:\",test.shape)\n",
    "train.head(3)"
   ]
  },
  {
   "cell_type": "code",
   "execution_count": 3,
   "metadata": {
    "collapsed": false,
    "deletable": true,
    "editable": true
   },
   "outputs": [
    {
     "data": {
      "text/html": [
       "<div>\n",
       "<table border=\"1\" class=\"dataframe\">\n",
       "  <thead>\n",
       "    <tr style=\"text-align: right;\">\n",
       "      <th></th>\n",
       "      <th>bathrooms</th>\n",
       "      <th>bedrooms</th>\n",
       "      <th>description_len</th>\n",
       "      <th>features_cnt</th>\n",
       "      <th>hour</th>\n",
       "      <th>latitude</th>\n",
       "      <th>longitude</th>\n",
       "      <th>photos_cnt</th>\n",
       "      <th>price</th>\n",
       "      <th>weekday</th>\n",
       "    </tr>\n",
       "  </thead>\n",
       "  <tbody>\n",
       "    <tr>\n",
       "      <th>0</th>\n",
       "      <td>1.5</td>\n",
       "      <td>3</td>\n",
       "      <td>588</td>\n",
       "      <td>0</td>\n",
       "      <td>7</td>\n",
       "      <td>40.7145</td>\n",
       "      <td>-73.9425</td>\n",
       "      <td>5</td>\n",
       "      <td>3000</td>\n",
       "      <td>4</td>\n",
       "    </tr>\n",
       "    <tr>\n",
       "      <th>1</th>\n",
       "      <td>1.0</td>\n",
       "      <td>2</td>\n",
       "      <td>8</td>\n",
       "      <td>5</td>\n",
       "      <td>12</td>\n",
       "      <td>40.7947</td>\n",
       "      <td>-73.9667</td>\n",
       "      <td>11</td>\n",
       "      <td>5465</td>\n",
       "      <td>6</td>\n",
       "    </tr>\n",
       "    <tr>\n",
       "      <th>2</th>\n",
       "      <td>1.0</td>\n",
       "      <td>1</td>\n",
       "      <td>691</td>\n",
       "      <td>4</td>\n",
       "      <td>3</td>\n",
       "      <td>40.7388</td>\n",
       "      <td>-74.0018</td>\n",
       "      <td>8</td>\n",
       "      <td>2850</td>\n",
       "      <td>6</td>\n",
       "    </tr>\n",
       "  </tbody>\n",
       "</table>\n",
       "</div>"
      ],
      "text/plain": [
       "   bathrooms  bedrooms  description_len  features_cnt  hour  latitude  \\\n",
       "0        1.5         3              588             0     7   40.7145   \n",
       "1        1.0         2                8             5    12   40.7947   \n",
       "2        1.0         1              691             4     3   40.7388   \n",
       "\n",
       "   longitude  photos_cnt  price  weekday  \n",
       "0   -73.9425           5   3000        4  \n",
       "1   -73.9667          11   5465        6  \n",
       "2   -74.0018           8   2850        6  "
      ]
     },
     "execution_count": 3,
     "metadata": {},
     "output_type": "execute_result"
    }
   ],
   "source": [
    "cols = train.columns\n",
    "cols = cols.drop(['listing_id','interest_level'])\n",
    "train_X = train[cols]\n",
    "train_y = train['interest_level']\n",
    "test_X = test[cols]\n",
    "test_y = test['interest_level']\n",
    "train_X.head(3)"
   ]
  },
  {
   "cell_type": "code",
   "execution_count": 4,
   "metadata": {
    "collapsed": false,
    "deletable": true,
    "editable": true
   },
   "outputs": [
    {
     "data": {
      "text/plain": [
       "RandomForestClassifier(bootstrap=True, class_weight=None, criterion='gini',\n",
       "            max_depth=None, max_features='auto', max_leaf_nodes=None,\n",
       "            min_impurity_split=1e-07, min_samples_leaf=1,\n",
       "            min_samples_split=2, min_weight_fraction_leaf=0.0,\n",
       "            n_estimators=10, n_jobs=-1, oob_score=False, random_state=None,\n",
       "            verbose=0, warm_start=False)"
      ]
     },
     "execution_count": 4,
     "metadata": {},
     "output_type": "execute_result"
    }
   ],
   "source": [
    "rft = RandomForestClassifier(n_jobs=-1)\n",
    "rft.fit(train_X,train_y)"
   ]
  },
  {
   "cell_type": "code",
   "execution_count": 5,
   "metadata": {
    "collapsed": false,
    "deletable": true,
    "editable": true
   },
   "outputs": [
    {
     "data": {
      "text/plain": [
       "0.16135575065701638"
      ]
     },
     "execution_count": 5,
     "metadata": {},
     "output_type": "execute_result"
    }
   ],
   "source": [
    "log_loss(y_pred = rft.predict_proba(train_X),y_true=train_y)"
   ]
  },
  {
   "cell_type": "code",
   "execution_count": 6,
   "metadata": {
    "collapsed": false,
    "deletable": true,
    "editable": true
   },
   "outputs": [],
   "source": [
    "result = pd.DataFrame(rft.predict_proba(test_X),columns=rft.classes_)\n",
    "result['listing_id'] = test['listing_id']"
   ]
  },
  {
   "cell_type": "code",
   "execution_count": 7,
   "metadata": {
    "collapsed": false,
    "deletable": true,
    "editable": true
   },
   "outputs": [
    {
     "data": {
      "text/html": [
       "<div>\n",
       "<table border=\"1\" class=\"dataframe\">\n",
       "  <thead>\n",
       "    <tr style=\"text-align: right;\">\n",
       "      <th></th>\n",
       "      <th>listing_id</th>\n",
       "      <th>high</th>\n",
       "      <th>medium</th>\n",
       "      <th>low</th>\n",
       "    </tr>\n",
       "  </thead>\n",
       "  <tbody>\n",
       "    <tr>\n",
       "      <th>0</th>\n",
       "      <td>7142618</td>\n",
       "      <td>0.2</td>\n",
       "      <td>0.2</td>\n",
       "      <td>0.6</td>\n",
       "    </tr>\n",
       "    <tr>\n",
       "      <th>1</th>\n",
       "      <td>7210040</td>\n",
       "      <td>0.4</td>\n",
       "      <td>0.3</td>\n",
       "      <td>0.3</td>\n",
       "    </tr>\n",
       "    <tr>\n",
       "      <th>2</th>\n",
       "      <td>7103890</td>\n",
       "      <td>0.0</td>\n",
       "      <td>0.1</td>\n",
       "      <td>0.9</td>\n",
       "    </tr>\n",
       "  </tbody>\n",
       "</table>\n",
       "</div>"
      ],
      "text/plain": [
       "   listing_id  high  medium  low\n",
       "0     7142618   0.2     0.2  0.6\n",
       "1     7210040   0.4     0.3  0.3\n",
       "2     7103890   0.0     0.1  0.9"
      ]
     },
     "execution_count": 7,
     "metadata": {},
     "output_type": "execute_result"
    }
   ],
   "source": [
    "result[['listing_id','high','medium','low']].to_csv('./scores/scored_simple.csv',index=False)\n",
    "result[['listing_id','high','medium','low']].head(3)"
   ]
  },
  {
   "cell_type": "code",
   "execution_count": 8,
   "metadata": {
    "collapsed": false,
    "deletable": true,
    "editable": true
   },
   "outputs": [],
   "source": [
    "rft = RandomForestClassifier(n_jobs=-1)\n",
    "params = {\n",
    "    'n_estimators' : [50,100,200,400],\n",
    "    'max_features' : ['auto'],\n",
    "    'max_depth' : [3,5,10,20,50],\n",
    "    'min_samples_leaf' : [0.003],\n",
    "    'min_samples_split' : [0.001],\n",
    "    'criterion' : ['entropy','gini'],\n",
    "    'class_weight' : ['balanced',None],\n",
    "    'bootstrap' : [True],\n",
    "    'oob_score' : [False],\n",
    "    'random_state' : [0,123,12345]\n",
    "}\n",
    "def framework(clf,params,n_iter):\n",
    "    # calculate # of iterations for Search\n",
    "    parsize = ft.reduce(lambda a,b: a*b,[len(params[x]) for x in params]) # total # of combinations\n",
    "    psize = n_iter if parsize > n_iter else parsize # limit # by n_iter\n",
    "    print ('Parameters combination :',str(psize)+\"/\"+str(parsize))   \n",
    "    \n",
    "    rgs = RandomizedSearchCV(\n",
    "    estimator = clf,\n",
    "    param_distributions = params,\n",
    "    n_iter = psize,\n",
    "    scoring = 'neg_log_loss',\n",
    "    n_jobs = -1,\n",
    "    cv = 5,\n",
    "    refit=True,\n",
    "    verbose=1)\n",
    "\n",
    "    rgs.fit(train_X,train_y)\n",
    "    \n",
    "    n_top = 3\n",
    "    for i in range(1, n_top + 1):\n",
    "        candidates = np.flatnonzero(rgs.cv_results_['rank_test_score'] == i)\n",
    "        for candidate in candidates:\n",
    "            print(\"Model with rank: {0}\".format(i), \"(best model)\" if rgs.best_index_ == candidate else \"\")\n",
    "            print(\"Mean validation score: {0:.3f} (std: {1:.3f})\".format(\n",
    "                  rgs.cv_results_['mean_test_score'][candidate],\n",
    "                  rgs.cv_results_['std_test_score'][candidate]))\n",
    "            print(\"Parameters: {0}\".format(rgs.cv_results_['params'][candidate]))\n",
    "    \n",
    "    return rgs.best_estimator_"
   ]
  },
  {
   "cell_type": "code",
   "execution_count": 9,
   "metadata": {
    "collapsed": false,
    "deletable": true,
    "editable": true
   },
   "outputs": [
    {
     "name": "stdout",
     "output_type": "stream",
     "text": [
      "Parameters combination : 30/240\n",
      "Fitting 5 folds for each of 30 candidates, totalling 150 fits\n"
     ]
    },
    {
     "name": "stderr",
     "output_type": "stream",
     "text": [
      "[Parallel(n_jobs=-1)]: Done  34 tasks      | elapsed:  1.1min\n",
      "[Parallel(n_jobs=-1)]: Done 150 out of 150 | elapsed:  4.5min finished\n"
     ]
    },
    {
     "name": "stdout",
     "output_type": "stream",
     "text": [
      "Model with rank: 1 (best model)\n",
      "Mean validation score: -0.644 (std: 0.004)\n",
      "Parameters: {'random_state': 123, 'oob_score': False, 'n_estimators': 400, 'min_samples_split': 0.001, 'min_samples_leaf': 0.003, 'max_features': 'auto', 'max_depth': 50, 'criterion': 'entropy', 'class_weight': None, 'bootstrap': True}\n",
      "Model with rank: 2 \n",
      "Mean validation score: -0.645 (std: 0.004)\n",
      "Parameters: {'random_state': 123, 'oob_score': False, 'n_estimators': 100, 'min_samples_split': 0.001, 'min_samples_leaf': 0.003, 'max_features': 'auto', 'max_depth': 50, 'criterion': 'entropy', 'class_weight': None, 'bootstrap': True}\n",
      "Model with rank: 3 \n",
      "Mean validation score: -0.646 (std: 0.005)\n",
      "Parameters: {'random_state': 0, 'oob_score': False, 'n_estimators': 400, 'min_samples_split': 0.001, 'min_samples_leaf': 0.003, 'max_features': 'auto', 'max_depth': 50, 'criterion': 'gini', 'class_weight': None, 'bootstrap': True}\n"
     ]
    }
   ],
   "source": [
    "est = framework(rft,params,30)\n",
    "# Mean validation score: -0.645 (std: 0.005)\n",
    "result = pd.DataFrame(est.predict_proba(test_X),columns=est.classes_)\n",
    "result['listing_id'] = test['listing_id']\n",
    "\n",
    "result[['listing_id','high','medium','low']].to_csv('./scores/scored_hypopt.csv',index=False)"
   ]
  },
  {
   "cell_type": "code",
   "execution_count": 70,
   "metadata": {
    "collapsed": true,
    "deletable": true,
    "editable": true
   },
   "outputs": [],
   "source": [
    "result[['listing_id','high','medium','low']].to_csv('./scores/scored_simple_rft.csv',index=False)"
   ]
  },
  {
   "cell_type": "code",
   "execution_count": null,
   "metadata": {
    "collapsed": false,
    "deletable": true,
    "editable": true
   },
   "outputs": [
    {
     "name": "stdout",
     "output_type": "stream",
     "text": [
      "Parameters combination : 50/1800\n",
      "Fitting 5 folds for each of 50 candidates, totalling 250 fits\n"
     ]
    }
   ],
   "source": [
    "\n",
    "xgb = xgboost.XGBClassifier(nthread=-1)\n",
    "#print(xgb.get_params().keys())\n",
    "xgb_params = {\"max_depth\": [3,5,7],\n",
    "              \"learning_rate\": [0.01,0.05,0.1,0.15],\n",
    "              \"n_estimators\": [50,75,100,150,200],\n",
    "              \"min_child_weight\": [0.01,0.005],\n",
    "              \"gamma\": [0.1,0.5,0.8,0.9,1.0],\n",
    "              \"subsample\":[0.75,0.9,1.0],\n",
    "              #\"eval_metric\":['logloss'],\n",
    "              \"objective\":[\"multi:softprob\"],\n",
    "              #\"seed\":[0],\n",
    "              \"nthread\":[-1]\n",
    "              #,\"eval_metric\": ['roc_auc']\n",
    "             }\n",
    "\n",
    "est = framework(xgb,xgb_params,50)\n",
    "\n",
    "result = pd.DataFrame(est.predict_proba(test_X),columns=est.classes_)\n",
    "result['listing_id'] = test['listing_id']\n",
    "result[['listing_id','high','medium','low']].to_csv('./scores/scored_hypopt.csv',index=False)\n",
    "#Model with rank: 1 (best model)\n",
    "#Mean validation score: -0.597 (std: 0.005)\n",
    "#Parameters: {'subsample': 0.9, 'objective': 'multi:softprob', 'nthread': -1, 'n_estimators': 100, 'min_child_weight': 0.005, 'max_depth': 7, 'learning_rate': 0.1, 'gamma': 0.8}"
   ]
  },
  {
   "cell_type": "code",
   "execution_count": 20,
   "metadata": {
    "collapsed": true,
    "deletable": true,
    "editable": true
   },
   "outputs": [],
   "source": [
    "result = pd.DataFrame(est.predict_proba(test_X),columns=est.classes_)\n",
    "result['listing_id'] = test['listing_id']\n",
    "\n",
    "result[['listing_id','high','medium','low']].to_csv('./scores/scored_hypopt_xgb.csv',index=False)"
   ]
  },
  {
   "cell_type": "code",
   "execution_count": null,
   "metadata": {
    "collapsed": true,
    "deletable": true,
    "editable": true
   },
   "outputs": [],
   "source": []
  }
 ],
 "metadata": {
  "kernelspec": {
   "display_name": "Python 3",
   "language": "python",
   "name": "python3"
  },
  "language_info": {
   "codemirror_mode": {
    "name": "ipython",
    "version": 3
   },
   "file_extension": ".py",
   "mimetype": "text/x-python",
   "name": "python",
   "nbconvert_exporter": "python",
   "pygments_lexer": "ipython3",
   "version": "3.6.0"
  }
 },
 "nbformat": 4,
 "nbformat_minor": 2
}
